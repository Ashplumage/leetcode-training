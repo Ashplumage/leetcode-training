{
 "cells": [
  {
   "cell_type": "markdown",
   "metadata": {},
   "source": [
    "# 两数相加\n",
    "给出两个 非空 的链表用来表示两个非负的整数。其中，它们各自的位数是按照 逆序 的方式存储的，并且它们的每个节点只能存储 一位 数字。\n",
    "\n",
    "如果，我们将这两个数相加起来，则会返回一个新的链表来表示它们的和。\n",
    "\n",
    "您可以假设除了数字 0 之外，这两个数都不会以 0 开头。\n",
    "\n",
    "示例：\n",
    "\n",
    "输入：(2 -> 4 -> 3) + (5 -> 6 -> 4)\n",
    "输出：7 -> 0 -> 8\n",
    "原因：342 + 465 = 807\n"
   ]
  },
  {
   "cell_type": "code",
   "execution_count": 2,
   "metadata": {},
   "outputs": [],
   "source": [
    "# Definition for singly-linked list.\n",
    "# class ListNode:\n",
    "#     def __init__(self, x):\n",
    "#         self.val = x\n",
    "#         self.next = None\n",
    "\n",
    "class Solution:\n",
    "    def addTwoNumbers(self, l1: ListNode, l2: ListNode) -> ListNode:\n",
    "        q = ListNode(0)\n",
    "        p = q\n",
    "        \n",
    "        carry = 0\n",
    "        while(l1 or l2):\n",
    "            x = l1.val if l1 else 0\n",
    "            y = l2.val if l2 else 0\n",
    "            sum_ = x + y +carry\n",
    "            carry = sum_ // 10\n",
    "            remain = sum_ % 10\n",
    "\n",
    "            if l1:\n",
    "                l1 = l1.next\n",
    "            if l2:\n",
    "                l2 = l2.next\n",
    "                \n",
    "            p.next = ListNode(remain)\n",
    "            p = p.next\n",
    "        if carry != 0:\n",
    "            p.next = ListNode(carry)\n",
    "            p = p.next\n",
    "        return q.next\n",
    "            \n",
    "        \n",
    "            "
   ]
  },
  {
   "cell_type": "markdown",
   "metadata": {},
   "source": [
    "**上面用到链表，单链表由于题目中已经有定义了，所以直接用即可，但是和c++中相似，每个节点需要预先定义分配内存，也就是说每次定义新节点的时候，需要重新ListNode(val)**"
   ]
  },
  {
   "cell_type": "markdown",
   "metadata": {},
   "source": [
    "## 收获\n",
    "\n",
    "1. 开始习惯leetcode的python编程习惯，直接在网站上调试运行，不需要自己在本地重新构造数据环境\n",
    "2. 经常编译出错，语法出错：每个if,for,else都要检查“:”是否有写\n",
    "3. \" / \"就一定表示 浮点数除法，返回浮点结果;\" // \"表示整数除法"
   ]
  },
  {
   "cell_type": "code",
   "execution_count": null,
   "metadata": {},
   "outputs": [],
   "source": []
  }
 ],
 "metadata": {
  "kernelspec": {
   "display_name": "Python 3",
   "language": "python",
   "name": "python3"
  },
  "language_info": {
   "codemirror_mode": {
    "name": "ipython",
    "version": 3
   },
   "file_extension": ".py",
   "mimetype": "text/x-python",
   "name": "python",
   "nbconvert_exporter": "python",
   "pygments_lexer": "ipython3",
   "version": "3.7.0"
  }
 },
 "nbformat": 4,
 "nbformat_minor": 2
}
